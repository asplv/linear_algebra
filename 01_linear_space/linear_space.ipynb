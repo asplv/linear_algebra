{
 "cells": [
  {
   "cell_type": "markdown",
   "metadata": {},
   "source": [
    "Анастасия Плавина\n",
    "\n",
    "## Тема: Линейная зависимость, базис"
   ]
  },
  {
   "cell_type": "markdown",
   "metadata": {},
   "source": [
    "__1.__ Исследовать на линейную зависимость:\n",
    "$$f_{1}(x)=e^{x}, f_{2}(x)=1, f_{3}(x)=x+1, f_{4}(x)=x-e^{x}.$$"
   ]
  },
  {
   "cell_type": "markdown",
   "metadata": {},
   "source": [
    "Проверим, можно ли выразить один из векторов через остальные:"
   ]
  },
  {
   "cell_type": "markdown",
   "metadata": {},
   "source": [
    "$f_{4}(x)=x-e^{x} = - e^{x} + (x+1) - 1 =  - f_{1}(x) + f_{3}(x) - f_{2}(x)$ => вектор $f_4(x)$ — линейная комбинация векторов $f_1(x), f_2(x)$ и $f_3(x)$ => $f_4(x)$ и $f_1(x), f_2(x), f_3(x)$ линейно зависимы."
   ]
  },
  {
   "cell_type": "markdown",
   "metadata": {},
   "source": [
    "__2.__ Исследовать на линейную зависимость:\n",
    "$$f_{1}(x)=2, f_{2}(x)=x, f_{3}(x)=x^{2}, f_{4}(x)=(x+1)^{2}.$$"
   ]
  },
  {
   "cell_type": "markdown",
   "metadata": {},
   "source": [
    "Проверим, можно ли выразить один из векторов через остальные:"
   ]
  },
  {
   "cell_type": "markdown",
   "metadata": {},
   "source": [
    "$f_4(x) = x^2 + 2x + 1 = f_3(x) + 2 f_2(x) + \\frac{1}{2}f_1(x)$ => вектор $f_4(x)$ — линейная комбинация векторов $f_1(x), f_2(x)$ и $f_3(x)$ => $f_4(x)$ и $f_1(x), f_2(x), f_3(x)$ линейно зависимы."
   ]
  },
  {
   "cell_type": "markdown",
   "metadata": {},
   "source": [
    "__3.__ Найти координаты вектора $x = (2, 3, 5)\\in \\mathbb{R}^{3}$ в базисе $b_{1}=(0, 0, 10)$, $b_{2}=(2, 0, 0)$, $b_{3}=(0, 1, 0)$"
   ]
  },
  {
   "cell_type": "markdown",
   "metadata": {},
   "source": [
    "Проверим, что векторы образуют базис. Для этого вычислим определитель матрицы, образованной ими:"
   ]
  },
  {
   "cell_type": "markdown",
   "metadata": {},
   "source": [
    "B = $\\begin{pmatrix}\n",
    "0 & 0 & 10\\\\ \n",
    "2 & 0 & 0\\\\\n",
    "0 & 1 & 0\\\\\n",
    "\\end{pmatrix}$\n",
    "\n",
    "$\\Delta =  0\\cdot(0\\cdot 0 - 1\\cdot0) - 2\\cdot(0\\cdot0 - 1\\cdot10) + 0\\cdot(0\\cdot0 - 0\\cdot10) = 20$, т.е. определитель не равен нулю => векторы образуют базис"
   ]
  },
  {
   "cell_type": "code",
   "execution_count": 27,
   "metadata": {},
   "outputs": [
    {
     "data": {
      "text/plain": [
       "20.000000000000007"
      ]
     },
     "execution_count": 27,
     "metadata": {},
     "output_type": "execute_result"
    }
   ],
   "source": [
    "import numpy as np\n",
    "\n",
    "B = np.array([\n",
    "    [0, 0, 10],\n",
    "    [2, 0, 0],\n",
    "    [0, 1, 0]])\n",
    "\n",
    "np.linalg.det(B)"
   ]
  },
  {
   "cell_type": "markdown",
   "metadata": {},
   "source": [
    "Координаты вектора $x$ в базисе:"
   ]
  },
  {
   "cell_type": "markdown",
   "metadata": {},
   "source": [
    "$x=(2, 3, 5)=(2,0,0)+(0, 3, 0)+(0, 0, 5)=1\\cdot(2, 0, 0)+3\\cdot(0, 1, 0)+\\frac{1}{2}\\cdot(0, 0, 10)=\\frac{1}{2}b_{1} + 1b_{2}+3b_{3}+$ => координаты вектора $x = (2, 3, 5)$ в базисе $b_1, b_2, b_3 = (\\frac{1}{2}, 1, 3)$"
   ]
  },
  {
   "cell_type": "markdown",
   "metadata": {},
   "source": [
    "__4.__ Найти координаты вектора $3x^{2}-2x+2\\in\\mathbb{R}^{3}[x]$:\n",
    "\n",
    "   а) в базисе $1$, $x$, $x^{2}$;\n",
    "\n",
    "   б) в базисе $x^{2}$, $x-1$, $1$."
   ]
  },
  {
   "cell_type": "code",
   "execution_count": null,
   "metadata": {},
   "outputs": [],
   "source": []
  },
  {
   "cell_type": "markdown",
   "metadata": {},
   "source": [
    "__5.__ Установить, является ли линейным подпространством:\n",
    "\n",
    "а) совокупность всех векторов трехмерного пространства, у которых по крайней мере одна из первых двух координат равна нулю;\n",
    "    \n",
    "б) все векторы, являющиеся линейными комбинациями данных векторов $\\{u_{1}, u_{2}, ..., u_{n}\\}$"
   ]
  },
  {
   "cell_type": "code",
   "execution_count": null,
   "metadata": {},
   "outputs": [],
   "source": []
  },
  {
   "cell_type": "markdown",
   "metadata": {},
   "source": [
    "## Тема: Норма, евклидово пространство"
   ]
  },
  {
   "cell_type": "markdown",
   "metadata": {},
   "source": [
    "__1.__ Найти скалярное произведение векторов $x, y \\in \\mathbb{R}$:<br>\n",
    "а) $x=(0,-3, 6),~y=(-4, 7, 9);$<br>\n",
    "б) $x=(7, -4, 0, 1),~y=(-3, 1, 11, 2).$\n"
   ]
  },
  {
   "cell_type": "markdown",
   "metadata": {},
   "source": [
    "$(x,y)=a_{1}b_{1}+a_{2}b_{2}+...+a_{n}b_{n}$\n",
    "\n",
    "а) $(x,y)= 0 - 21 + 54 = 33$\n",
    "\n",
    "б) $(x,y)= -21 - 4 + 0 +2 = -23$"
   ]
  },
  {
   "cell_type": "code",
   "execution_count": 23,
   "metadata": {},
   "outputs": [
    {
     "name": "stdout",
     "output_type": "stream",
     "text": [
      "Скалярное произведение a и b:\t33\n",
      "Скалярное произведение c и d:\t-23\n"
     ]
    }
   ],
   "source": [
    "a = np.array([0, -3, 6])\n",
    "b = np.array([-4, 7, 9])\n",
    "\n",
    "c = np.array([7, -4, 0, 1])\n",
    "d = np.array([-3, 1, 11, 2])\n",
    "print(f'Скалярное произведение a и b:\\t{np.dot(a, b)}')\n",
    "print(f'Скалярное произведение c и d:\\t{np.dot(c, d)}')"
   ]
  },
  {
   "cell_type": "markdown",
   "metadata": {},
   "source": [
    "__2.__ Найти нормы векторов $(4, 2, 4)$ и $(12, 3, 4)$ и угол между ними."
   ]
  },
  {
   "cell_type": "markdown",
   "metadata": {},
   "source": [
    "Евклидовы нормы векторов: $\\left\\|x\\right\\|_ = \\sqrt{\\sum_{i}|x_{i}|^{2}}$\n",
    "\n",
    "$||x|| = \\sqrt{4^2 + 2^2 + 4^2} = \\sqrt{36} = 6$\n",
    "\n",
    "$||y|| = \\sqrt{12^2 + 3^2 + 4^2} = \\sqrt{169} = 13$"
   ]
  },
  {
   "cell_type": "markdown",
   "metadata": {},
   "source": [
    "$\\cos$ угла между векторами: $cos\\varphi = \\frac{(x,y)}{\\left \\|x\\right \\|\\cdot\\left \\|y\\right \\|}$\n",
    "\n",
    "$cos\\varphi = \\frac{4\\cdot12 + 2\\cdot3 + 4\\cdot4}{6\\cdot13} = \\frac{70}{78} \\approx 0.89$"
   ]
  },
  {
   "cell_type": "code",
   "execution_count": 20,
   "metadata": {},
   "outputs": [
    {
     "name": "stdout",
     "output_type": "stream",
     "text": [
      "Норма вектора x:\t\t6.0\n",
      "Норма вектора y:\t\t13.0\n",
      "Угол между векторами x и y:\t0.456874003532661\n"
     ]
    }
   ],
   "source": [
    "x = np.array([4, 2, 4])\n",
    "y = np.array([12, 3, 4])\n",
    "\n",
    "x_norm = np.linalg.norm(x)\n",
    "y_norm = np.linalg.norm(y)\n",
    "\n",
    "cos_phi = np.dot(x, y) / (x_norm * y_norm)\n",
    "\n",
    "print(f'Норма вектора x:\\t\\t{x_norm}\\nНорма вектора y:\\t\\t{y_norm}')\n",
    "print(f'Угол между векторами x и y:\\t{np.arccos(cos_phi)}')"
   ]
  },
  {
   "cell_type": "markdown",
   "metadata": {},
   "source": [
    "__3.__ Будет ли линейное пространство евклидовым, если за скалярное произведение принять:<br>\n",
    "а) произведение длин векторов;<br>\n",
    "б) утроенное обычное скалярное произведение векторов?\n"
   ]
  },
  {
   "cell_type": "code",
   "execution_count": null,
   "metadata": {},
   "outputs": [],
   "source": []
  },
  {
   "cell_type": "markdown",
   "metadata": {},
   "source": [
    "__4.__ Какие из нижеперечисленных векторов образуют ортонормированный базис в линейном пространстве $\\mathbb{R}^{3}$:<br>\n",
    "а) $(1,0,0),(0,0,1);$ <br>\n",
    "б) $(1/\\sqrt{2},-1/\\sqrt{2},0),(1/\\sqrt{2},1/\\sqrt{2},0), (0,0,1);$<br>\n",
    "в) $(1/2, -1/2, 0), (0, 1/2, 1/2), (0,0,1);$<br>\n",
    "г) $(1,0,0),(0,1,0),(0,0,1)?$ "
   ]
  },
  {
   "cell_type": "code",
   "execution_count": null,
   "metadata": {},
   "outputs": [],
   "source": []
  }
 ],
 "metadata": {
  "kernelspec": {
   "display_name": "Python 3",
   "language": "python",
   "name": "python3"
  },
  "language_info": {
   "codemirror_mode": {
    "name": "ipython",
    "version": 3
   },
   "file_extension": ".py",
   "mimetype": "text/x-python",
   "name": "python",
   "nbconvert_exporter": "python",
   "pygments_lexer": "ipython3",
   "version": "3.8.1"
  }
 },
 "nbformat": 4,
 "nbformat_minor": 4
}
