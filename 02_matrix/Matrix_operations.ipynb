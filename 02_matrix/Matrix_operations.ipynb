{
 "cells": [
  {
   "cell_type": "markdown",
   "metadata": {},
   "source": [
    "Анастасия Плавина\n",
    "\n",
    "### Тема. Матрицы и матричные операции. Часть 1."
   ]
  },
  {
   "cell_type": "markdown",
   "metadata": {},
   "source": [
    "__1.__ Установить, какие произведения матриц $AB$ и $BA$ определены, и найти размерности полученных матриц:\n",
    "\n",
    "   а) $A$ — матрица $4\\times 2$, $B$ — матрица $4\\times 2$;\n",
    "    \n",
    "   б) $A$ — матрица $2\\times 5$, $B$ — матрица $5\\times 3$;\n",
    "    \n",
    "   в) $A$ — матрица $8\\times 3$, $B$ — матрица $3\\times 8$;\n",
    "    \n",
    "   г) $A$ — квадратная матрица $4\\times 4$, $B$ — квадратная матрица $4\\times 4$."
   ]
  },
  {
   "cell_type": "markdown",
   "metadata": {},
   "source": [
    "**Решение:**\n",
    "\n",
    "а) прозведения AB и BA не определены, т.к. количество строк и столбцов матриц A и B совпадает.\n",
    "\n",
    "б) прозведение AB определено, размерность 2X3\n",
    "\n",
    "в) произведения AB(8X8) и BА(3X3) определены\n",
    "    \n",
    "г) произведения AB и BA определены, обе матрицы 4Х4."
   ]
  },
  {
   "cell_type": "markdown",
   "metadata": {},
   "source": [
    "    \n",
    "__2.__ Найти сумму и произведение матриц $A=\\begin{pmatrix}\n",
    "1 & -2\\\\ \n",
    "3 & 0\n",
    "\\end{pmatrix}$ и $B=\\begin{pmatrix}\n",
    "4 & -1\\\\ \n",
    "0 & 5\n",
    "\\end{pmatrix}.$"
   ]
  },
  {
   "cell_type": "markdown",
   "metadata": {},
   "source": [
    "$A+B = \n",
    "\\begin{pmatrix}\n",
    "5 & -3\\\\ \n",
    "3 & 5\n",
    "\\end{pmatrix}$\n",
    "\n",
    "\n",
    "$A \\cdot B = \n",
    "\\begin{pmatrix}\n",
    "(1 \\cdot 4 + (-2) \\cdot 0) & (1 \\cdot (-1) + (-2)\\cdot 5)\\\\ \n",
    "(3 \\cdot 4 + 0 \\cdot 0) & (3 \\cdot (-1) + 0 \\cdot 5\n",
    "\\end{pmatrix} = \\begin{pmatrix}\n",
    "4 & -11 \\\\ \n",
    "12 & -3\n",
    "\\end{pmatrix}$"
   ]
  },
  {
   "cell_type": "code",
   "execution_count": 1,
   "metadata": {},
   "outputs": [
    {
     "name": "stdout",
     "output_type": "stream",
     "text": [
      "Сумма матриц A и B\n",
      " [[ 5 -3]\n",
      " [ 3  5]]\n",
      "Произведение матриц A и B\n",
      " [[  4 -11]\n",
      " [ 12  -3]]\n"
     ]
    }
   ],
   "source": [
    "import numpy as np\n",
    "\n",
    "A = np.array([[1, -2], [3, 0]])\n",
    "B = np.array([[4, -1], [0, 5]])\n",
    "\n",
    "print('Сумма матриц A и B\\n', A+B)\n",
    "print('Произведение матриц A и B\\n', A.dot(B))"
   ]
  },
  {
   "cell_type": "markdown",
   "metadata": {},
   "source": [
    "\n",
    "__3.__ Из закономерностей сложения и умножения матриц на число можно сделать вывод, что матрицы одного размера образуют линейное пространство. Вычислить линейную комбинацию $3A-2B+4C$ для матриц $A=\\begin{pmatrix}\n",
    "1 & 7\\\\ \n",
    "3 & -6\n",
    "\\end{pmatrix}$, $B=\\begin{pmatrix}\n",
    "0 & 5\\\\ \n",
    "2 & -1\n",
    "\\end{pmatrix}$, $C=\\begin{pmatrix}\n",
    "2 & -4\\\\ \n",
    "1 & 1\n",
    "\\end{pmatrix}.$"
   ]
  },
  {
   "cell_type": "markdown",
   "metadata": {},
   "source": [
    "$3A = 3\\cdot \\begin{pmatrix}\n",
    "1 & 7\\\\ \n",
    "3 & -6\n",
    "\\end{pmatrix} = \\begin{pmatrix}\n",
    "3 & 21\\\\ \n",
    "9 & -18 \n",
    "\\end{pmatrix}$\n",
    "\n",
    "\n",
    "$2B = 2 \\cdot \\begin{pmatrix}\n",
    "0 & 5 \\\\ \n",
    "2 & -1\n",
    "\\end{pmatrix} = \\begin{pmatrix}\n",
    "0 & 10\\\\ \n",
    "4 & -2\n",
    "\\end{pmatrix}$\n",
    "\n",
    "\n",
    "$4C= 4\\cdot \\begin{pmatrix}\n",
    "2 & -4\\\\ \n",
    "1 & 1\n",
    "\\end{pmatrix} = \\begin{pmatrix}\n",
    "8 & -16\\\\ \n",
    "4 & 4\n",
    "\\end{pmatrix}$\n",
    "\n",
    "\n",
    "$D = 3A - 2B + 4C = \\begin{pmatrix}\n",
    "3 & 21\\\\ \n",
    "9 & -18 \n",
    "\\end{pmatrix} - \\begin{pmatrix}\n",
    "0 & 10\\\\ \n",
    "4 & -2\n",
    "\\end{pmatrix} + \\begin{pmatrix}\n",
    "8 & -16\\\\ \n",
    "4 & 4\n",
    "\\end{pmatrix} = \\begin{pmatrix}\n",
    "11 & -5 \\\\ \n",
    "9 & -12\n",
    "\\end{pmatrix}$"
   ]
  },
  {
   "cell_type": "code",
   "execution_count": 2,
   "metadata": {},
   "outputs": [
    {
     "data": {
      "text/plain": [
       "array([[ 11,  -5],\n",
       "       [  9, -12]])"
      ]
     },
     "execution_count": 2,
     "metadata": {},
     "output_type": "execute_result"
    }
   ],
   "source": [
    "A = np.array([[1, 7], [3, -6]])\n",
    "B = np.array([[0, 5], [2, -1]])\n",
    "C = np.array([[2, -4], [1, 1]])\n",
    "\n",
    "3*A - 2*B + 4*C"
   ]
  },
  {
   "cell_type": "markdown",
   "metadata": {},
   "source": [
    "__4.__ Дана матрица $A=\\begin{pmatrix}\n",
    "4 & 1\\\\ \n",
    "5 & -2\\\\ \n",
    "2 & 3\n",
    "\\end{pmatrix}$.\n",
    "Вычислить $AA^{T}$ и $A^{T}A$."
   ]
  },
  {
   "cell_type": "markdown",
   "metadata": {},
   "source": [
    "$A^{T} = \\begin{pmatrix}\n",
    "4 & 5 & 2\\\\ \n",
    "1 & -2 & 3\\\\ \n",
    "\\end{pmatrix}$\n",
    "\n",
    "$A\\cdot A^{T} = \\begin{pmatrix}\n",
    "4 & 1\\\\ \n",
    "5 & -2\\\\ \n",
    "2 & 3\n",
    "\\end{pmatrix}\\cdot\\begin{pmatrix}\n",
    "4 & 5 & 2\\\\ \n",
    "1 & -2 & 3\\\\ \n",
    "\\end{pmatrix} = \\begin{pmatrix}\n",
    "(16+1) & (20 - 2) & (8+3)\\\\ \n",
    "(20 -2) & (25+4) & (10-6)\\\\ \n",
    "(8 -3) & (10-6) & (4+9)\n",
    "\\end{pmatrix} = \\begin{pmatrix}\n",
    "17 & 18 & 11\\\\ \n",
    "18 & 29 & 4\\\\ \n",
    "11 & 4 & 13\n",
    "\\end{pmatrix}$\n",
    "\n",
    "$A^{T} \\cdot A = \\begin{pmatrix}\n",
    "4 & 5 & 2\\\\ \n",
    "1 & -2 & 3\\\\ \n",
    "\\end{pmatrix} \\cdot \\begin{pmatrix}\n",
    "4 & 1\\\\ \n",
    "5 & -2\\\\ \n",
    "2 & 3 \n",
    "\\end{pmatrix} = \\begin{pmatrix}\n",
    "(16+25+4) & (4-10+6) \\\\ \n",
    "(4-10+6) & (1 + 4 +9)\\\\ \n",
    "\\end{pmatrix} = \\begin{pmatrix}\n",
    "45 & 0 \\\\ \n",
    "0 & 14\\\\ \n",
    "\\end{pmatrix}$"
   ]
  },
  {
   "cell_type": "code",
   "execution_count": 3,
   "metadata": {},
   "outputs": [],
   "source": [
    "A = np.array([\n",
    "    [4, 1], \n",
    "    [5, -2],\n",
    "    [2, 3]\n",
    "])"
   ]
  },
  {
   "cell_type": "code",
   "execution_count": 4,
   "metadata": {},
   "outputs": [
    {
     "data": {
      "text/plain": [
       "array([[ 4,  5,  2],\n",
       "       [ 1, -2,  3]])"
      ]
     },
     "execution_count": 4,
     "metadata": {},
     "output_type": "execute_result"
    }
   ],
   "source": [
    "A_T = A.T\n",
    "A_T"
   ]
  },
  {
   "cell_type": "code",
   "execution_count": 5,
   "metadata": {},
   "outputs": [
    {
     "data": {
      "text/plain": [
       "array([[17, 18, 11],\n",
       "       [18, 29,  4],\n",
       "       [11,  4, 13]])"
      ]
     },
     "execution_count": 5,
     "metadata": {},
     "output_type": "execute_result"
    }
   ],
   "source": [
    "A.dot(A_T)"
   ]
  },
  {
   "cell_type": "code",
   "execution_count": 6,
   "metadata": {},
   "outputs": [
    {
     "data": {
      "text/plain": [
       "array([[45,  0],\n",
       "       [ 0, 14]])"
      ]
     },
     "execution_count": 6,
     "metadata": {},
     "output_type": "execute_result"
    }
   ],
   "source": [
    "A_T.dot(A)"
   ]
  },
  {
   "cell_type": "markdown",
   "metadata": {},
   "source": [
    "__5*.__ Написать на Python функцию для перемножения двух произвольных матриц, не используя NumPy."
   ]
  },
  {
   "cell_type": "code",
   "execution_count": 7,
   "metadata": {},
   "outputs": [
    {
     "data": {
      "text/plain": [
       "array([[17., 18., 11.],\n",
       "       [18., 29.,  4.],\n",
       "       [11.,  4., 13.]])"
      ]
     },
     "execution_count": 7,
     "metadata": {},
     "output_type": "execute_result"
    }
   ],
   "source": [
    "def matrix_dot(A, B):\n",
    "    \"\"\"Перемножение двух матриц\n",
    "    \"\"\"\n",
    "    \n",
    "    C = np.zeros((A.shape[0], B.shape[1]))\n",
    "    for i in range(A.shape[0]):\n",
    "        for j in range(B.shape[1]):\n",
    "            for p in range(A.shape[1]):\n",
    "                C[i][j] += A[i][p]*B[p][j]\n",
    "    return C\n",
    "\n",
    "matrix_dot(A, A_T) "
   ]
  },
  {
   "cell_type": "markdown",
   "metadata": {},
   "source": [
    "### Тема. Матрицы и матричные операции. Часть 2."
   ]
  },
  {
   "cell_type": "markdown",
   "metadata": {},
   "source": [
    "__1.__ Вычислить определитель:\n",
    "\n",
    "   a)\n",
    "\n",
    "$$\\begin{vmatrix}\n",
    "sinx & -cosx\\\\ \n",
    "cosx & sinx\n",
    "\\end{vmatrix};$$\n",
    "\n",
    "   б)\n",
    "    \n",
    "$$\\begin{vmatrix}\n",
    "4 & 2 & 3\\\\ \n",
    "0 & 5 & 1\\\\ \n",
    "0 & 0 & 9\n",
    "\\end{vmatrix};$$\n",
    "    \n",
    "   в)\n",
    "\n",
    "$$\\begin{vmatrix}\n",
    "1 & 2 & 3\\\\ \n",
    "4 & 5 & 6\\\\ \n",
    "7 & 8 & 9\n",
    "\\end{vmatrix}.$$"
   ]
  },
  {
   "cell_type": "markdown",
   "metadata": {},
   "source": [
    "**Решение:**\n",
    "\n",
    "а) $\\begin{vmatrix}\n",
    "sinx & -cosx\\\\ \n",
    "cosx & sinx\n",
    "\\end{vmatrix}$\n",
    "\n",
    "$\\Delta = \\sin^2 x + \\cos^2 x = 1$\n",
    "\n",
    "б) $\\begin{vmatrix}\n",
    "4 & 2 & 3\\\\ \n",
    "0 & 5 & 1\\\\ \n",
    "0 & 0 & 9\n",
    "\\end{vmatrix}$ \n",
    "\n",
    "Матрица треугольная => определитель равен произведению членов главной диагонали:\n",
    "\n",
    "$\\Delta = 180 $\n",
    "\n",
    "\n",
    "в) $\\begin{vmatrix}\n",
    "1 & 2 & 3\\\\ \n",
    "4 & 5 & 6\\\\ \n",
    "7 & 8 & 9\n",
    "\\end{vmatrix} \\sim \\begin{vmatrix}\n",
    "1 & 2 & 3\\\\ \n",
    "3 & 3 & 3\\\\ \n",
    "6 & 6 & 6\n",
    "\\end{vmatrix}$ =>\n",
    "\n",
    "=> после вычитание первой строки из 2 и 3 строки матрицы видим, что 2 и 3 строки матрицы линейно зависимы => \n",
    "$\\Delta = 0$"
   ]
  },
  {
   "cell_type": "code",
   "execution_count": 8,
   "metadata": {},
   "outputs": [
    {
     "data": {
      "text/plain": [
       "1.0"
      ]
     },
     "execution_count": 8,
     "metadata": {},
     "output_type": "execute_result"
    }
   ],
   "source": [
    "a = np.array([\n",
    "    [np.sin(1), -np.cos(1)],\n",
    "    [np.cos(1), np.sin(1)]\n",
    "])\n",
    "np.linalg.det(a)"
   ]
  },
  {
   "cell_type": "code",
   "execution_count": 9,
   "metadata": {},
   "outputs": [
    {
     "data": {
      "text/plain": [
       "180.0"
      ]
     },
     "execution_count": 9,
     "metadata": {},
     "output_type": "execute_result"
    }
   ],
   "source": [
    "b = np.array([\n",
    "    [4, 2, 3],\n",
    "    [0, 5, 1],\n",
    "    [0, 0, 9]\n",
    "])\n",
    "np.linalg.det(b)"
   ]
  },
  {
   "cell_type": "code",
   "execution_count": 10,
   "metadata": {},
   "outputs": [
    {
     "data": {
      "text/plain": [
       "0.0"
      ]
     },
     "execution_count": 10,
     "metadata": {},
     "output_type": "execute_result"
    }
   ],
   "source": [
    "c = np.array([\n",
    "    [1, 2, 3],\n",
    "    [4, 5, 6],\n",
    "    [7, 8, 9]\n",
    "])\n",
    "np.linalg.det(c)"
   ]
  },
  {
   "cell_type": "markdown",
   "metadata": {},
   "source": [
    "\n",
    "__2.__ Определитель матрицы $A$ равен $4$. Найти:\n",
    "\n",
    "   а) $det(A^{2})$;\n",
    "    \n",
    "   б) $det(A^{T})$;\n",
    "    \n",
    "   в) $det(2A)$.\n",
    "  "
   ]
  },
  {
   "cell_type": "markdown",
   "metadata": {},
   "source": [
    "**Решение:**\n",
    "\n",
    "a) $\\Delta = 16$, т.к. для двух матриц одинакового размера верно $\\Delta AB = \\Delta A \\cdot \\Delta B$\n",
    "\n",
    "б) $\\Delta = 4$, т.к. определитель транспонированной матрицы равен определителю исходной матрицы\n",
    "\n",
    "в) $\\Delta = 4 \\cdot 2^n$ для матрицы n $X$ n"
   ]
  },
  {
   "cell_type": "markdown",
   "metadata": {},
   "source": [
    "__3.__  Доказать, что матрица\n",
    "\n",
    "$$\\begin{pmatrix}\n",
    "-2 & 7 & -3\\\\ \n",
    "4 & -14 & 6\\\\ \n",
    "-3 & 7 & 13\n",
    "\\end{pmatrix}$$\n",
    "   \n",
    "вырожденная."
   ]
  },
  {
   "cell_type": "markdown",
   "metadata": {},
   "source": [
    "$\\begin{vmatrix}\n",
    "-2 & 7 & -3\\\\ \n",
    "4 & -14 & 6\\\\ \n",
    "-3 & 7 & 13\n",
    "\\end{vmatrix} = -2 \\cdot (-182 - 42) - 7\\cdot (52 + 18) - 3 \\cdot (28 - 42) = 448 - 490 + 42 = 0 $ "
   ]
  },
  {
   "cell_type": "code",
   "execution_count": 11,
   "metadata": {},
   "outputs": [
    {
     "data": {
      "text/plain": [
       "0.0"
      ]
     },
     "execution_count": 11,
     "metadata": {},
     "output_type": "execute_result"
    }
   ],
   "source": [
    "a = np.array([\n",
    "    [-2, 7, -3],\n",
    "    [4, -14, 6],\n",
    "    [-3, 7, 13]\n",
    "])\n",
    "\n",
    "np.linalg.det(a)"
   ]
  },
  {
   "cell_type": "code",
   "execution_count": 12,
   "metadata": {},
   "outputs": [
    {
     "data": {
      "text/plain": [
       "2"
      ]
     },
     "execution_count": 12,
     "metadata": {},
     "output_type": "execute_result"
    }
   ],
   "source": [
    "np.linalg.matrix_rank(a)"
   ]
  },
  {
   "cell_type": "markdown",
   "metadata": {},
   "source": [
    "Определитель матрицы равен 0, ранг меньше 3 для матрицы 3 на 3 => матрица вырожденная"
   ]
  },
  {
   "cell_type": "markdown",
   "metadata": {},
   "source": [
    "\n",
    "__4.__ Найти ранг матрицы:\n",
    "\n",
    "   а) $\\begin{pmatrix}\n",
    "1 & 2 & 3\\\\ \n",
    "1 & 1 & 1\\\\ \n",
    "2 & 3 & 4\n",
    "\\end{pmatrix};$\n",
    "\n",
    "   б) $\\begin{pmatrix}\n",
    "0 & 0 & 2 & 1\\\\ \n",
    "0 & 0 & 2 & 2\\\\ \n",
    "0 & 0 & 4 & 3\\\\ \n",
    "2 & 3 & 5 & 6\n",
    "\\end{pmatrix}.$"
   ]
  },
  {
   "cell_type": "markdown",
   "metadata": {},
   "source": [
    "**Решение:**\n",
    "\n",
    "а) 3 строка = сумма 1 и 2 строки => отбрасываем ее и получаем\n",
    "\n",
    "$\\begin{pmatrix}\n",
    "1 & 2 & 3\\\\ \n",
    "1 & 1 & 1\\\\ \n",
    "\\end{pmatrix}$\n",
    "\n",
    "Вычтем 1-ую строку из 2-ой:\n",
    "\n",
    "$\\begin{pmatrix}\n",
    "1 & 2 & 3\\\\ \n",
    "0 & -1 & -2\\\\ \n",
    "\\end{pmatrix}$\n",
    "\n",
    "Ранг матрицы = 2\n",
    "\n",
    "\n",
    "б) 3 строка = сумма 1 и 2 строки => отбрасываем ее:\n",
    "\n",
    "$\\begin{pmatrix}\n",
    "0 & 0 & 2 & 1\\\\ \n",
    "0 & 0 & 2 & 2\\\\ \n",
    "2 & 3 & 5 & 6\n",
    "\\end{pmatrix}$\n",
    "\n",
    "\n",
    "Поменяем строки местами:\n",
    "\n",
    "$\\begin{pmatrix}\n",
    "2 & 3 & 5 & 6\\\\\n",
    "0 & 0 & 2 & 1\\\\ \n",
    "0 & 0 & 2 & 2\n",
    "\\end{pmatrix}$\n",
    "\n",
    "Ранг матрицы = 3"
   ]
  },
  {
   "cell_type": "code",
   "execution_count": 13,
   "metadata": {},
   "outputs": [
    {
     "data": {
      "text/plain": [
       "2"
      ]
     },
     "execution_count": 13,
     "metadata": {},
     "output_type": "execute_result"
    }
   ],
   "source": [
    "a = np.array([\n",
    "    [1, 2, 3],\n",
    "    [1, 1, 1],\n",
    "    [2, 3, 4]\n",
    "])\n",
    "\n",
    "np.linalg.matrix_rank(a)"
   ]
  },
  {
   "cell_type": "code",
   "execution_count": 15,
   "metadata": {},
   "outputs": [
    {
     "data": {
      "text/plain": [
       "3"
      ]
     },
     "execution_count": 15,
     "metadata": {},
     "output_type": "execute_result"
    }
   ],
   "source": [
    "b = np.array([\n",
    "    [0, 0, 2, 1],\n",
    "    [0, 0, 2, 2],\n",
    "    [0, 0, 4, 3],\n",
    "    [2, 3, 5, 6]\n",
    "])\n",
    "\n",
    "np.linalg.matrix_rank(b)"
   ]
  }
 ],
 "metadata": {
  "kernelspec": {
   "display_name": "Python 3",
   "language": "python",
   "name": "python3"
  },
  "language_info": {
   "codemirror_mode": {
    "name": "ipython",
    "version": 3
   },
   "file_extension": ".py",
   "mimetype": "text/x-python",
   "name": "python",
   "nbconvert_exporter": "python",
   "pygments_lexer": "ipython3",
   "version": "3.8.1"
  }
 },
 "nbformat": 4,
 "nbformat_minor": 4
}
